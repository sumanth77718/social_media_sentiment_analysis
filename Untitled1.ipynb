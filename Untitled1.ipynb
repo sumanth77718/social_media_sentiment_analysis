{
 "cells": [
  {
   "cell_type": "code",
   "execution_count": null,
   "id": "21b9605d",
   "metadata": {},
   "outputs": [],
   "source": [
    "import re\n",
    "import pandas as pd\n",
    "import numpy as np\n",
    "import matplotlib.pyplot as plt\n",
    "import seaborn as sns\n",
    "import string \n",
    "import nltk\n",
    "import warnings\n",
    "warnings.filterwarnings(\"ignore\", category = DeprecationWarning)\n",
    "\n",
    "%matplotlib inline"
   ]
  },
  {
   "cell_type": "code",
   "execution_count": null,
   "id": "28e39655",
   "metadata": {},
   "outputs": [],
   "source": [
    "train = pd.read_csv('https://raw.githubusercontent.com/dD2405/Twitter_Sentiment_Analysis/master/train.csv')\n",
    "\n",
    "train_orignal = train.copy()"
   ]
  },
  {
   "cell_type": "code",
   "execution_count": null,
   "id": "9c7017df",
   "metadata": {},
   "outputs": [],
   "source": [
    "train.head()"
   ]
  },
  {
   "cell_type": "code",
   "execution_count": null,
   "id": "dee57585",
   "metadata": {},
   "outputs": [],
   "source": [
    "train.tail()"
   ]
  },
  {
   "cell_type": "code",
   "execution_count": null,
   "id": "5d682760",
   "metadata": {},
   "outputs": [],
   "source": [
    "test = pd.read_csv('https://raw.githubusercontent.com/dD2405/Twitter_Sentiment_Analysis/master/test.csv')\n",
    "\n",
    "test_original = test.copy()"
   ]
  },
  {
   "cell_type": "code",
   "execution_count": null,
   "id": "65c48254",
   "metadata": {},
   "outputs": [],
   "source": [
    "test.head()"
   ]
  },
  {
   "cell_type": "code",
   "execution_count": null,
   "id": "76a01568",
   "metadata": {},
   "outputs": [],
   "source": [
    "test.tail()"
   ]
  },
  {
   "cell_type": "code",
   "execution_count": null,
   "id": "c32e1f8c",
   "metadata": {},
   "outputs": [],
   "source": [
    "combined_data = train.append(test,ignore_index=True,sort=True)\n",
    "combined_data.head()"
   ]
  },
  {
   "cell_type": "code",
   "execution_count": null,
   "id": "1aaf8ef2",
   "metadata": {},
   "outputs": [],
   "source": [
    "combined_data.tail()"
   ]
  },
  {
   "cell_type": "code",
   "execution_count": null,
   "id": "26f12af7",
   "metadata": {},
   "outputs": [],
   "source": [
    "def remove_pattern(text,pattern):\n",
    "    \n",
    "    # re.findall() finds the pattern in the text and will put it in a list\n",
    "    r = re.findall(pattern,text)\n",
    "    \n",
    "    # re.sub() will substitute all the @ with an empty character\n",
    "    for i in r:\n",
    "        text = re.sub(i,\"\",text)\n",
    "        \n",
    "    return text"
   ]
  },
  {
   "cell_type": "code",
   "execution_count": null,
   "id": "f074afa1",
   "metadata": {},
   "outputs": [],
   "source": [
    "negative_hashtags_unnest = (sum(negative_hashtags,[]))\n",
    "negative_hashtags_unnest"
   ]
  },
  {
   "cell_type": "code",
   "execution_count": null,
   "id": "a5af3265",
   "metadata": {},
   "outputs": [],
   "source": [
    "positive_word_freq = nltk.FreqDist(positive_hastags_unnested)\n",
    "\n",
    "positive_word_freq"
   ]
  },
  {
   "cell_type": "code",
   "execution_count": null,
   "id": "c1142a6c",
   "metadata": {},
   "outputs": [],
   "source": [
    "positive_df = pd.DataFrame({'Hashtags': list(positive_word_freq.keys()),'Count' : list(positive_word_freq.values())})\n",
    "positive_df"
   ]
  },
  {
   "cell_type": "code",
   "execution_count": null,
   "id": "b8546b5e",
   "metadata": {},
   "outputs": [],
   "source": [
    "positive_df_plot = positive_df.nlargest(20,columns='Count')\n",
    "\n",
    "sns.barplot(data=positive_df_plot,y='Hashtags',x='Count')\n",
    "sns.despine()"
   ]
  },
  {
   "cell_type": "code",
   "execution_count": null,
   "id": "25bfd6a9",
   "metadata": {},
   "outputs": [],
   "source": [
    "negative_word_freq = nltk.FreqDist(negative_hashtags_unnest)\n",
    "\n",
    "negative_word_freq"
   ]
  },
  {
   "cell_type": "code",
   "execution_count": null,
   "id": "5d172223",
   "metadata": {},
   "outputs": [],
   "source": [
    "negative_df = pd.DataFrame({'Hashtags':list(negative_word_freq.keys()),'Count':list(negative_word_freq.values())})\n",
    "\n",
    "negative_df"
   ]
  },
  {
   "cell_type": "code",
   "execution_count": null,
   "id": "0f22db6b",
   "metadata": {},
   "outputs": [],
   "source": [
    "negative_df_plot = negative_df.nlargest(20,columns='Count')\n",
    "\n",
    "sns.barplot(data=negative_df_plot,y='Hashtags',x='Count')\n",
    "sns.despine()"
   ]
  },
  {
   "cell_type": "code",
   "execution_count": null,
   "id": "3ca7bc03",
   "metadata": {},
   "outputs": [],
   "source": [
    "from sklearn.feature_extraction.text import CountVectorizer\n",
    "\n",
    "bow_vecotrizer = CountVectorizer(max_df=0.90, min_df = 2, max_features = 1000, stop_words=\"english\")\n",
    "\n",
    "bow = bow_vecotrizer.fit_transform(combined_data['Cleaned_Tweets'])\n",
    "\n",
    "bow_df = pd.DataFrame(bow.todense())\n",
    "\n",
    "bow_df"
   ]
  },
  {
   "cell_type": "code",
   "execution_count": null,
   "id": "12f7d5f0",
   "metadata": {},
   "outputs": [],
   "source": [
    "from sklearn.feature_extraction.text import TfidfVectorizer\n",
    "\n",
    "tfidf = TfidfVectorizer(max_df=0.90,min_df=2,max_features=1000,stop_words='english')\n",
    "\n",
    "tfidf_matrix = tfidf.fit_transform(combined_data['Cleaned_Tweets'])\n",
    "\n",
    "tfidf_df = pd.DataFrame(tfidf_matrix.todense())\n",
    "\n",
    "tfidf_df"
   ]
  },
  {
   "cell_type": "code",
   "execution_count": null,
   "id": "3b4e1ded",
   "metadata": {},
   "outputs": [],
   "source": [
    "train_bow = bow[:31962]\n",
    "\n",
    "train_bow.todense()"
   ]
  },
  {
   "cell_type": "code",
   "execution_count": null,
   "id": "a003a966",
   "metadata": {},
   "outputs": [],
   "source": [
    "train_tfidf_matrix = tfidf_matrix[:31962]\n",
    "\n",
    "train_tfidf_matrix.todense()"
   ]
  },
  {
   "cell_type": "code",
   "execution_count": null,
   "id": "e9d95439",
   "metadata": {},
   "outputs": [],
   "source": [
    "from sklearn.model_selection import train_test_split"
   ]
  },
  {
   "cell_type": "code",
   "execution_count": null,
   "id": "632bb138",
   "metadata": {},
   "outputs": [],
   "source": [
    "x_train_bow, x_valid_bow, y_train_bow, y_valid_bow = train_test_split(train_bow,train['label'],test_size=0.3,random_state=2)"
   ]
  },
  {
   "cell_type": "code",
   "execution_count": null,
   "id": "0623a509",
   "metadata": {},
   "outputs": [],
   "source": [
    "x_train_tfidf, x_valid_tfidf, y_train_tfidf, y_valid_tfidf = train_test_split(train_tfidf_matrix,train['label'],test_size=0.3,random_state=17)"
   ]
  },
  {
   "cell_type": "code",
   "execution_count": null,
   "id": "f8d633e4",
   "metadata": {},
   "outputs": [],
   "source": [
    "from sklearn.metrics import f1_score"
   ]
  },
  {
   "cell_type": "code",
   "execution_count": null,
   "id": "ef339350",
   "metadata": {},
   "outputs": [],
   "source": [
    "from sklearn.linear_model import LogisticRegression"
   ]
  },
  {
   "cell_type": "code",
   "execution_count": null,
   "id": "6ca9c357",
   "metadata": {},
   "outputs": [],
   "source": [
    "log_Reg = LogisticRegression(random_state=0,solver='lbfgs')\n"
   ]
  },
  {
   "cell_type": "code",
   "execution_count": null,
   "id": "dcd37a2e",
   "metadata": {},
   "outputs": [],
   "source": [
    "log_Reg.fit(x_train_bow,y_train_bow)"
   ]
  },
  {
   "cell_type": "code",
   "execution_count": null,
   "id": "ce3909b5",
   "metadata": {},
   "outputs": [],
   "source": [
    "predict_bow = log_Reg.predict_proba(x_valid_bow)\n",
    "predict_bow"
   ]
  },
  {
   "cell_type": "code",
   "execution_count": null,
   "id": "44a8443d",
   "metadata": {},
   "outputs": [],
   "source": [
    "prediction_int = predict_tfidf[:,1]>=0.3\n",
    "\n",
    "prediction_int = prediction_int.astype(np.int)\n",
    "prediction_int\n",
    "\n",
    "log_tfidf = f1_score(y_valid_tfidf,prediction_int)\n",
    "log_tfidf"
   ]
  },
  {
   "cell_type": "code",
   "execution_count": null,
   "id": "19ea9fea",
   "metadata": {},
   "outputs": [],
   "source": [
    "test_tfidf = tfidf_matrix[31962:]\n",
    "test_pred = log_Reg.predict_proba(test_tfidf)\n",
    "\n",
    "test_pred_int = test_pred[:,1] >= 0.3\n",
    "test_pred_int = test_pred_int.astype(np.int)\n",
    "\n",
    "test['label'] = test_pred_int\n",
    "\n",
    "submission = test[['id','label']]\n",
    "submission.to_csv('result.csv', index=False)"
   ]
  },
  {
   "cell_type": "code",
   "execution_count": null,
   "id": "95323963",
   "metadata": {},
   "outputs": [],
   "source": [
    "res = pd.read_csv('result.csv')\n",
    "res"
   ]
  },
  {
   "cell_type": "code",
   "execution_count": null,
   "id": "8ba3ac29",
   "metadata": {},
   "outputs": [],
   "source": []
  },
  {
   "cell_type": "code",
   "execution_count": null,
   "id": "6bf3d919",
   "metadata": {},
   "outputs": [],
   "source": []
  },
  {
   "cell_type": "code",
   "execution_count": null,
   "id": "32f3f3c3",
   "metadata": {},
   "outputs": [],
   "source": []
  },
  {
   "cell_type": "code",
   "execution_count": null,
   "id": "4dd0e1a8",
   "metadata": {},
   "outputs": [],
   "source": []
  },
  {
   "cell_type": "code",
   "execution_count": null,
   "id": "30118cd7",
   "metadata": {},
   "outputs": [],
   "source": []
  },
  {
   "cell_type": "code",
   "execution_count": null,
   "id": "ed6ee708",
   "metadata": {},
   "outputs": [],
   "source": []
  },
  {
   "cell_type": "code",
   "execution_count": null,
   "id": "8345873c",
   "metadata": {},
   "outputs": [],
   "source": []
  },
  {
   "cell_type": "code",
   "execution_count": null,
   "id": "d6cd2ed3",
   "metadata": {},
   "outputs": [],
   "source": []
  },
  {
   "cell_type": "code",
   "execution_count": null,
   "id": "00352493",
   "metadata": {},
   "outputs": [],
   "source": []
  },
  {
   "cell_type": "code",
   "execution_count": null,
   "id": "eb10ee6d",
   "metadata": {},
   "outputs": [],
   "source": []
  },
  {
   "cell_type": "code",
   "execution_count": null,
   "id": "903e641f",
   "metadata": {},
   "outputs": [],
   "source": []
  },
  {
   "cell_type": "code",
   "execution_count": null,
   "id": "873e41f4",
   "metadata": {},
   "outputs": [],
   "source": []
  }
 ],
 "metadata": {
  "kernelspec": {
   "display_name": "Python 3 (ipykernel)",
   "language": "python",
   "name": "python3"
  },
  "language_info": {
   "codemirror_mode": {
    "name": "ipython",
    "version": 3
   },
   "file_extension": ".py",
   "mimetype": "text/x-python",
   "name": "python",
   "nbconvert_exporter": "python",
   "pygments_lexer": "ipython3",
   "version": "3.11.4"
  }
 },
 "nbformat": 4,
 "nbformat_minor": 5
}
